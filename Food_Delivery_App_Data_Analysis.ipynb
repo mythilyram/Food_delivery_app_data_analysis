{
  "nbformat": 4,
  "nbformat_minor": 0,
  "metadata": {
    "colab": {
      "provenance": [],
      "authorship_tag": "ABX9TyMWdmwb3qzL3PVmoLptUJr2",
      "include_colab_link": true
    },
    "kernelspec": {
      "name": "python3",
      "display_name": "Python 3"
    },
    "language_info": {
      "name": "python"
    }
  },
  "cells": [
    {
      "cell_type": "markdown",
      "metadata": {
        "id": "view-in-github",
        "colab_type": "text"
      },
      "source": [
        "<a href=\"https://colab.research.google.com/github/mythilyram/Food_delivery_app_data_analysis/blob/main/Food_Delivery_App_Data_Analysis.ipynb\" target=\"_parent\"><img src=\"https://colab.research.google.com/assets/colab-badge.svg\" alt=\"Open In Colab\"/></a>"
      ]
    },
    {
      "cell_type": "code",
      "source": [
        "Preprocessing and Data cleaning using python. The food delivery app-zomato`s customer review data."
      ],
      "metadata": {
        "id": "ORvqYoTJiykP"
      },
      "execution_count": null,
      "outputs": []
    },
    {
      "cell_type": "code",
      "execution_count": 1,
      "metadata": {
        "colab": {
          "base_uri": "https://localhost:8080/",
          "height": 93
        },
        "id": "PX0zbNTiGID1",
        "outputId": "df83c8ef-f6d2-4d4f-9074-e9337af206df"
      },
      "outputs": [
        {
          "output_type": "display_data",
          "data": {
            "text/plain": [
              "<IPython.core.display.HTML object>"
            ],
            "text/html": [
              "\n",
              "     <input type=\"file\" id=\"files-acd9c0e6-d98e-43fb-8acb-853b71716f78\" name=\"files[]\" multiple disabled\n",
              "        style=\"border:none\" />\n",
              "     <output id=\"result-acd9c0e6-d98e-43fb-8acb-853b71716f78\">\n",
              "      Upload widget is only available when the cell has been executed in the\n",
              "      current browser session. Please rerun this cell to enable.\n",
              "      </output>\n",
              "      <script>// Copyright 2017 Google LLC\n",
              "//\n",
              "// Licensed under the Apache License, Version 2.0 (the \"License\");\n",
              "// you may not use this file except in compliance with the License.\n",
              "// You may obtain a copy of the License at\n",
              "//\n",
              "//      http://www.apache.org/licenses/LICENSE-2.0\n",
              "//\n",
              "// Unless required by applicable law or agreed to in writing, software\n",
              "// distributed under the License is distributed on an \"AS IS\" BASIS,\n",
              "// WITHOUT WARRANTIES OR CONDITIONS OF ANY KIND, either express or implied.\n",
              "// See the License for the specific language governing permissions and\n",
              "// limitations under the License.\n",
              "\n",
              "/**\n",
              " * @fileoverview Helpers for google.colab Python module.\n",
              " */\n",
              "(function(scope) {\n",
              "function span(text, styleAttributes = {}) {\n",
              "  const element = document.createElement('span');\n",
              "  element.textContent = text;\n",
              "  for (const key of Object.keys(styleAttributes)) {\n",
              "    element.style[key] = styleAttributes[key];\n",
              "  }\n",
              "  return element;\n",
              "}\n",
              "\n",
              "// Max number of bytes which will be uploaded at a time.\n",
              "const MAX_PAYLOAD_SIZE = 100 * 1024;\n",
              "\n",
              "function _uploadFiles(inputId, outputId) {\n",
              "  const steps = uploadFilesStep(inputId, outputId);\n",
              "  const outputElement = document.getElementById(outputId);\n",
              "  // Cache steps on the outputElement to make it available for the next call\n",
              "  // to uploadFilesContinue from Python.\n",
              "  outputElement.steps = steps;\n",
              "\n",
              "  return _uploadFilesContinue(outputId);\n",
              "}\n",
              "\n",
              "// This is roughly an async generator (not supported in the browser yet),\n",
              "// where there are multiple asynchronous steps and the Python side is going\n",
              "// to poll for completion of each step.\n",
              "// This uses a Promise to block the python side on completion of each step,\n",
              "// then passes the result of the previous step as the input to the next step.\n",
              "function _uploadFilesContinue(outputId) {\n",
              "  const outputElement = document.getElementById(outputId);\n",
              "  const steps = outputElement.steps;\n",
              "\n",
              "  const next = steps.next(outputElement.lastPromiseValue);\n",
              "  return Promise.resolve(next.value.promise).then((value) => {\n",
              "    // Cache the last promise value to make it available to the next\n",
              "    // step of the generator.\n",
              "    outputElement.lastPromiseValue = value;\n",
              "    return next.value.response;\n",
              "  });\n",
              "}\n",
              "\n",
              "/**\n",
              " * Generator function which is called between each async step of the upload\n",
              " * process.\n",
              " * @param {string} inputId Element ID of the input file picker element.\n",
              " * @param {string} outputId Element ID of the output display.\n",
              " * @return {!Iterable<!Object>} Iterable of next steps.\n",
              " */\n",
              "function* uploadFilesStep(inputId, outputId) {\n",
              "  const inputElement = document.getElementById(inputId);\n",
              "  inputElement.disabled = false;\n",
              "\n",
              "  const outputElement = document.getElementById(outputId);\n",
              "  outputElement.innerHTML = '';\n",
              "\n",
              "  const pickedPromise = new Promise((resolve) => {\n",
              "    inputElement.addEventListener('change', (e) => {\n",
              "      resolve(e.target.files);\n",
              "    });\n",
              "  });\n",
              "\n",
              "  const cancel = document.createElement('button');\n",
              "  inputElement.parentElement.appendChild(cancel);\n",
              "  cancel.textContent = 'Cancel upload';\n",
              "  const cancelPromise = new Promise((resolve) => {\n",
              "    cancel.onclick = () => {\n",
              "      resolve(null);\n",
              "    };\n",
              "  });\n",
              "\n",
              "  // Wait for the user to pick the files.\n",
              "  const files = yield {\n",
              "    promise: Promise.race([pickedPromise, cancelPromise]),\n",
              "    response: {\n",
              "      action: 'starting',\n",
              "    }\n",
              "  };\n",
              "\n",
              "  cancel.remove();\n",
              "\n",
              "  // Disable the input element since further picks are not allowed.\n",
              "  inputElement.disabled = true;\n",
              "\n",
              "  if (!files) {\n",
              "    return {\n",
              "      response: {\n",
              "        action: 'complete',\n",
              "      }\n",
              "    };\n",
              "  }\n",
              "\n",
              "  for (const file of files) {\n",
              "    const li = document.createElement('li');\n",
              "    li.append(span(file.name, {fontWeight: 'bold'}));\n",
              "    li.append(span(\n",
              "        `(${file.type || 'n/a'}) - ${file.size} bytes, ` +\n",
              "        `last modified: ${\n",
              "            file.lastModifiedDate ? file.lastModifiedDate.toLocaleDateString() :\n",
              "                                    'n/a'} - `));\n",
              "    const percent = span('0% done');\n",
              "    li.appendChild(percent);\n",
              "\n",
              "    outputElement.appendChild(li);\n",
              "\n",
              "    const fileDataPromise = new Promise((resolve) => {\n",
              "      const reader = new FileReader();\n",
              "      reader.onload = (e) => {\n",
              "        resolve(e.target.result);\n",
              "      };\n",
              "      reader.readAsArrayBuffer(file);\n",
              "    });\n",
              "    // Wait for the data to be ready.\n",
              "    let fileData = yield {\n",
              "      promise: fileDataPromise,\n",
              "      response: {\n",
              "        action: 'continue',\n",
              "      }\n",
              "    };\n",
              "\n",
              "    // Use a chunked sending to avoid message size limits. See b/62115660.\n",
              "    let position = 0;\n",
              "    do {\n",
              "      const length = Math.min(fileData.byteLength - position, MAX_PAYLOAD_SIZE);\n",
              "      const chunk = new Uint8Array(fileData, position, length);\n",
              "      position += length;\n",
              "\n",
              "      const base64 = btoa(String.fromCharCode.apply(null, chunk));\n",
              "      yield {\n",
              "        response: {\n",
              "          action: 'append',\n",
              "          file: file.name,\n",
              "          data: base64,\n",
              "        },\n",
              "      };\n",
              "\n",
              "      let percentDone = fileData.byteLength === 0 ?\n",
              "          100 :\n",
              "          Math.round((position / fileData.byteLength) * 100);\n",
              "      percent.textContent = `${percentDone}% done`;\n",
              "\n",
              "    } while (position < fileData.byteLength);\n",
              "  }\n",
              "\n",
              "  // All done.\n",
              "  yield {\n",
              "    response: {\n",
              "      action: 'complete',\n",
              "    }\n",
              "  };\n",
              "}\n",
              "\n",
              "scope.google = scope.google || {};\n",
              "scope.google.colab = scope.google.colab || {};\n",
              "scope.google.colab._files = {\n",
              "  _uploadFiles,\n",
              "  _uploadFilesContinue,\n",
              "};\n",
              "})(self);\n",
              "</script> "
            ]
          },
          "metadata": {}
        },
        {
          "output_type": "stream",
          "name": "stdout",
          "text": [
            "Saving zomato_input.csv to zomato_input.csv\n"
          ]
        }
      ],
      "source": [
        "from google.colab import files\n",
        "uploaded = files.upload()"
      ]
    },
    {
      "cell_type": "code",
      "source": [
        "import pandas as pd\n",
        "import numpy as np\n",
        "import warnings\n",
        "warnings.filterwarnings('ignore')"
      ],
      "metadata": {
        "id": "YAz1oJH6G1sL"
      },
      "execution_count": 2,
      "outputs": []
    },
    {
      "cell_type": "markdown",
      "source": [
        "## Read csv file into database  named hotels"
      ],
      "metadata": {
        "id": "rHwYOF_SePHn"
      }
    },
    {
      "cell_type": "code",
      "source": [
        "hotels=pd.read_csv('zomato_input.csv')"
      ],
      "metadata": {
        "id": "2LUULJ_tdEix"
      },
      "execution_count": 3,
      "outputs": []
    },
    {
      "cell_type": "markdown",
      "source": [
        "##Remove unwanted columns "
      ],
      "metadata": {
        "id": "8scwgiGYeCLB"
      }
    },
    {
      "cell_type": "code",
      "source": [
        "hotels.columns"
      ],
      "metadata": {
        "colab": {
          "base_uri": "https://localhost:8080/"
        },
        "id": "EM6d8_YNbdgo",
        "outputId": "3aad1205-42e9-4770-8fa3-79ca34759a02"
      },
      "execution_count": 4,
      "outputs": [
        {
          "output_type": "execute_result",
          "data": {
            "text/plain": [
              "Index(['address', 'name', 'online_order', 'book_table', 'rate', 'votes',\n",
              "       'phone', 'location', 'rest_type', 'dish_liked', 'cuisines',\n",
              "       'approx_cost(for two people)', 'listed_in(type)'],\n",
              "      dtype='object')"
            ]
          },
          "metadata": {},
          "execution_count": 4
        }
      ]
    },
    {
      "cell_type": "code",
      "source": [
        "hotels.drop(['address', 'phone'], axis=1, inplace=True)\n",
        "#hotels.drop(columns=['address','phone'],inplace=True) both same"
      ],
      "metadata": {
        "id": "Cfu3mK4Bep4s"
      },
      "execution_count": 5,
      "outputs": []
    },
    {
      "cell_type": "markdown",
      "source": [
        "## Rename columns"
      ],
      "metadata": {
        "id": "kJi7RK_xfNp_"
      }
    },
    {
      "cell_type": "code",
      "source": [
        "hotels.rename(columns={'rate': 'rating','approx_cost(for two people)':'approx_cost', 'listed_in(type)':'type'},inplace=True)"
      ],
      "metadata": {
        "id": "sPW5wCCJgPly"
      },
      "execution_count": 6,
      "outputs": []
    },
    {
      "cell_type": "code",
      "source": [
        "hotels.columns"
      ],
      "metadata": {
        "colab": {
          "base_uri": "https://localhost:8080/"
        },
        "id": "rrudj1k1ffJT",
        "outputId": "493185f9-f535-4137-bb0b-e8d09cfe02ed"
      },
      "execution_count": 7,
      "outputs": [
        {
          "output_type": "execute_result",
          "data": {
            "text/plain": [
              "Index(['name', 'online_order', 'book_table', 'rating', 'votes', 'location',\n",
              "       'rest_type', 'dish_liked', 'cuisines', 'approx_cost', 'type'],\n",
              "      dtype='object')"
            ]
          },
          "metadata": {},
          "execution_count": 7
        }
      ]
    },
    {
      "cell_type": "markdown",
      "source": [
        "## Handling NULL values."
      ],
      "metadata": {
        "id": "rcAQrj4yhdT1"
      }
    },
    {
      "cell_type": "code",
      "source": [
        "hotels.isna().sum()"
      ],
      "metadata": {
        "colab": {
          "base_uri": "https://localhost:8080/"
        },
        "id": "qgy52OIocNeC",
        "outputId": "86b9bb0b-473b-4ed3-a022-58a59ebd1c63"
      },
      "execution_count": 8,
      "outputs": [
        {
          "output_type": "execute_result",
          "data": {
            "text/plain": [
              "name               16\n",
              "online_order       19\n",
              "book_table         58\n",
              "rating           7838\n",
              "votes              78\n",
              "location          126\n",
              "rest_type         338\n",
              "dish_liked      28225\n",
              "cuisines          203\n",
              "approx_cost       521\n",
              "type             4610\n",
              "dtype: int64"
            ]
          },
          "metadata": {},
          "execution_count": 8
        }
      ]
    },
    {
      "cell_type": "code",
      "source": [
        "hotels.dropna(subset=['name'],axis=0, inplace=True)\n",
        "hotels['online_order'].fillna(\"NA\",inplace=True)\n",
        "hotels['book_table'].fillna(\"NA\",inplace=True)\n",
        "hotels['rating'].fillna(0,inplace=True)\n",
        "hotels['votes'].fillna(0, inplace=True)\n",
        "hotels['location'].fillna(\"NA\",inplace=True)\n",
        "hotels['rest_type'].fillna(\"NA\",inplace=True)\n",
        "hotels['dish_liked'].fillna(\"NA\",inplace=True)\n",
        "hotels['cuisines'].fillna(\"NA\",inplace=True)\n",
        "hotels['approx_cost'].fillna(0,inplace=True)\n",
        "hotels['type'].fillna(\"NA\",inplace=True)\n",
        "#hotels.fillna({'online_order':'NaN', 'book_table':'NaN','location':'NaN','rest_type':'NaN','dish_liked':'NaN','cuisines':'NaN','type':'NaN'}, inplace=True)"
      ],
      "metadata": {
        "id": "zJJWPNnphd3F"
      },
      "execution_count": 9,
      "outputs": []
    },
    {
      "cell_type": "code",
      "source": [
        "hotels.isna().sum()"
      ],
      "metadata": {
        "colab": {
          "base_uri": "https://localhost:8080/"
        },
        "id": "FulzGBQfcQUC",
        "outputId": "10d6bb83-bb08-4ca5-a0e0-7b458451777d"
      },
      "execution_count": 10,
      "outputs": [
        {
          "output_type": "execute_result",
          "data": {
            "text/plain": [
              "name            0\n",
              "online_order    0\n",
              "book_table      0\n",
              "rating          0\n",
              "votes           0\n",
              "location        0\n",
              "rest_type       0\n",
              "dish_liked      0\n",
              "cuisines        0\n",
              "approx_cost     0\n",
              "type            0\n",
              "dtype: int64"
            ]
          },
          "metadata": {},
          "execution_count": 10
        }
      ]
    },
    {
      "cell_type": "markdown",
      "source": [
        "## Remove duplicates"
      ],
      "metadata": {
        "id": "FJZdk6ZdinEE"
      }
    },
    {
      "cell_type": "code",
      "source": [
        "hotels.drop_duplicates(keep='first',inplace=True)"
      ],
      "metadata": {
        "id": "3YG0FSTaiXnb"
      },
      "execution_count": 11,
      "outputs": []
    },
    {
      "cell_type": "code",
      "source": [
        "hotels.shape"
      ],
      "metadata": {
        "colab": {
          "base_uri": "https://localhost:8080/"
        },
        "id": "fnCY2NZbeGdy",
        "outputId": "808b602d-cbe6-4b35-93bc-7fc46abe036f"
      },
      "execution_count": 12,
      "outputs": [
        {
          "output_type": "execute_result",
          "data": {
            "text/plain": [
              "(38413, 11)"
            ]
          },
          "metadata": {},
          "execution_count": 12
        }
      ]
    },
    {
      "cell_type": "markdown",
      "source": [
        "## Text Cleaning"
      ],
      "metadata": {
        "id": "rXmrZrTHYd9n"
      }
    },
    {
      "cell_type": "code",
      "source": [
        "#Remove irrelevant text\n",
        "hotels = hotels[hotels['name'].str.contains('rated', case=False)==False]\n",
        "hotels = hotels[hotels['online_order'].str.contains('rated', case=False)==False]\n",
        "hotels = hotels[hotels['book_table'].str.contains('rated', case=False)==False]\n",
        "hotels = hotels[hotels['rating'].str.contains('rated', case=False)==False]\n",
        "hotels = hotels[hotels['votes'].str.contains('rated', case=False)==False]\n",
        "hotels = hotels[hotels['location'].str.contains('rated', case=False)==False]\n",
        "hotels = hotels[hotels['rest_type'].str.contains('rated', case=False)==False]\n",
        "hotels = hotels[hotels['dish_liked'].str.contains('rated', case=False)==False]\n",
        "hotels = hotels[hotels['cuisines'].str.contains('rated', case=False)==False]\n",
        "hotels = hotels[hotels['approx_cost'].str.contains('rated', case=False)==False]\n",
        "hotels = hotels[hotels['type'].str.contains('rated', case=False)==False]"
      ],
      "metadata": {
        "id": "rkvwwM6eZeNc"
      },
      "execution_count": 13,
      "outputs": []
    },
    {
      "cell_type": "code",
      "source": [
        "hotels.shape"
      ],
      "metadata": {
        "colab": {
          "base_uri": "https://localhost:8080/"
        },
        "id": "cGf9JdyxecoT",
        "outputId": "8eb8d5e1-a260-42e9-f10b-68e6bb57a9a6"
      },
      "execution_count": 14,
      "outputs": [
        {
          "output_type": "execute_result",
          "data": {
            "text/plain": [
              "(30340, 11)"
            ]
          },
          "metadata": {},
          "execution_count": 14
        }
      ]
    },
    {
      "cell_type": "code",
      "source": [
        "hotels"
      ],
      "metadata": {
        "colab": {
          "base_uri": "https://localhost:8080/",
          "height": 606
        },
        "id": "jegY43f3ejEB",
        "outputId": "8b1baf78-5155-4b72-a8b0-2323ff41d22a"
      },
      "execution_count": 15,
      "outputs": [
        {
          "output_type": "execute_result",
          "data": {
            "text/plain": [
              "                                                    name online_order  \\\n",
              "0                                                  Jalsa          Yes   \n",
              "1                                         Spice Elephant          Yes   \n",
              "2                                        San Churro Cafe          Yes   \n",
              "3                                  Addhuri Udupi Bhojana           No   \n",
              "4                                          Grand Village           No   \n",
              "...                                                  ...          ...   \n",
              "56244                         The Farm House Bar n Grill           No   \n",
              "56246                                            Bhagini           No   \n",
              "56247  Best Brews - Four Points by Sheraton Bengaluru...           No   \n",
              "56250  Chime - Sheraton Grand Bengaluru Whitefield Ho...           No   \n",
              "56251                       The Nest - The Den Bengaluru           No   \n",
              "\n",
              "      book_table  rating votes                    location  \\\n",
              "0            Yes   4.1/5   775                Banashankari   \n",
              "1             No   4.1/5   787                Banashankari   \n",
              "2             No   3.8/5   918                Banashankari   \n",
              "3             No   3.7/5    88                Banashankari   \n",
              "4             No   3.8/5   166                Basavanagudi   \n",
              "...          ...     ...   ...                         ...   \n",
              "56244         No  3.7 /5    34                  Whitefield   \n",
              "56246         No  2.5 /5    81                  Whitefield   \n",
              "56247         No  3.6 /5    27                  Whitefield   \n",
              "56250        Yes  4.3 /5   236  ITPL Main Road, Whitefield   \n",
              "56251         No  3.4 /5    13  ITPL Main Road, Whitefield   \n",
              "\n",
              "                 rest_type                                         dish_liked  \\\n",
              "0            Casual Dining  Pasta, Lunch Buffet, Masala Papad, Paneer Laja...   \n",
              "1            Casual Dining  Momos, Lunch Buffet, Chocolate Nirvana, Thai G...   \n",
              "2      Cafe, Casual Dining  Churros, Cannelloni, Minestrone Soup, Hot Choc...   \n",
              "3              Quick Bites                                        Masala Dosa   \n",
              "4            Casual Dining                                Panipuri, Gol Gappe   \n",
              "...                    ...                                                ...   \n",
              "56244   Casual Dining, Bar                                                 NA   \n",
              "56246   Casual Dining, Bar                               Biryani, Andhra Meal   \n",
              "56247                  Bar                                                 NA   \n",
              "56250                  Bar                       Cocktails, Pizza, Buttermilk   \n",
              "56251   Bar, Casual Dining                                                 NA   \n",
              "\n",
              "                                          cuisines approx_cost           type  \n",
              "0                   North Indian, Mughlai, Chinese         800         Buffet  \n",
              "1                      Chinese, North Indian, Thai         800         Buffet  \n",
              "2                           Cafe, Mexican, Italian         800         Buffet  \n",
              "3                       South Indian, North Indian         300         Buffet  \n",
              "4                         North Indian, Rajasthani         600         Buffet  \n",
              "...                                            ...         ...            ...  \n",
              "56244                    North Indian, Continental         800  Pubs and bars  \n",
              "56246  Andhra, South Indian, Chinese, North Indian         800  Pubs and bars  \n",
              "56247                                  Continental       1,500  Pubs and bars  \n",
              "56250                                  Finger Food       2,500  Pubs and bars  \n",
              "56251       Finger Food, North Indian, Continental       1,500  Pubs and bars  \n",
              "\n",
              "[30340 rows x 11 columns]"
            ],
            "text/html": [
              "\n",
              "  <div id=\"df-8d22d67d-5668-4a50-9b4a-f31a04af8fb6\">\n",
              "    <div class=\"colab-df-container\">\n",
              "      <div>\n",
              "<style scoped>\n",
              "    .dataframe tbody tr th:only-of-type {\n",
              "        vertical-align: middle;\n",
              "    }\n",
              "\n",
              "    .dataframe tbody tr th {\n",
              "        vertical-align: top;\n",
              "    }\n",
              "\n",
              "    .dataframe thead th {\n",
              "        text-align: right;\n",
              "    }\n",
              "</style>\n",
              "<table border=\"1\" class=\"dataframe\">\n",
              "  <thead>\n",
              "    <tr style=\"text-align: right;\">\n",
              "      <th></th>\n",
              "      <th>name</th>\n",
              "      <th>online_order</th>\n",
              "      <th>book_table</th>\n",
              "      <th>rating</th>\n",
              "      <th>votes</th>\n",
              "      <th>location</th>\n",
              "      <th>rest_type</th>\n",
              "      <th>dish_liked</th>\n",
              "      <th>cuisines</th>\n",
              "      <th>approx_cost</th>\n",
              "      <th>type</th>\n",
              "    </tr>\n",
              "  </thead>\n",
              "  <tbody>\n",
              "    <tr>\n",
              "      <th>0</th>\n",
              "      <td>Jalsa</td>\n",
              "      <td>Yes</td>\n",
              "      <td>Yes</td>\n",
              "      <td>4.1/5</td>\n",
              "      <td>775</td>\n",
              "      <td>Banashankari</td>\n",
              "      <td>Casual Dining</td>\n",
              "      <td>Pasta, Lunch Buffet, Masala Papad, Paneer Laja...</td>\n",
              "      <td>North Indian, Mughlai, Chinese</td>\n",
              "      <td>800</td>\n",
              "      <td>Buffet</td>\n",
              "    </tr>\n",
              "    <tr>\n",
              "      <th>1</th>\n",
              "      <td>Spice Elephant</td>\n",
              "      <td>Yes</td>\n",
              "      <td>No</td>\n",
              "      <td>4.1/5</td>\n",
              "      <td>787</td>\n",
              "      <td>Banashankari</td>\n",
              "      <td>Casual Dining</td>\n",
              "      <td>Momos, Lunch Buffet, Chocolate Nirvana, Thai G...</td>\n",
              "      <td>Chinese, North Indian, Thai</td>\n",
              "      <td>800</td>\n",
              "      <td>Buffet</td>\n",
              "    </tr>\n",
              "    <tr>\n",
              "      <th>2</th>\n",
              "      <td>San Churro Cafe</td>\n",
              "      <td>Yes</td>\n",
              "      <td>No</td>\n",
              "      <td>3.8/5</td>\n",
              "      <td>918</td>\n",
              "      <td>Banashankari</td>\n",
              "      <td>Cafe, Casual Dining</td>\n",
              "      <td>Churros, Cannelloni, Minestrone Soup, Hot Choc...</td>\n",
              "      <td>Cafe, Mexican, Italian</td>\n",
              "      <td>800</td>\n",
              "      <td>Buffet</td>\n",
              "    </tr>\n",
              "    <tr>\n",
              "      <th>3</th>\n",
              "      <td>Addhuri Udupi Bhojana</td>\n",
              "      <td>No</td>\n",
              "      <td>No</td>\n",
              "      <td>3.7/5</td>\n",
              "      <td>88</td>\n",
              "      <td>Banashankari</td>\n",
              "      <td>Quick Bites</td>\n",
              "      <td>Masala Dosa</td>\n",
              "      <td>South Indian, North Indian</td>\n",
              "      <td>300</td>\n",
              "      <td>Buffet</td>\n",
              "    </tr>\n",
              "    <tr>\n",
              "      <th>4</th>\n",
              "      <td>Grand Village</td>\n",
              "      <td>No</td>\n",
              "      <td>No</td>\n",
              "      <td>3.8/5</td>\n",
              "      <td>166</td>\n",
              "      <td>Basavanagudi</td>\n",
              "      <td>Casual Dining</td>\n",
              "      <td>Panipuri, Gol Gappe</td>\n",
              "      <td>North Indian, Rajasthani</td>\n",
              "      <td>600</td>\n",
              "      <td>Buffet</td>\n",
              "    </tr>\n",
              "    <tr>\n",
              "      <th>...</th>\n",
              "      <td>...</td>\n",
              "      <td>...</td>\n",
              "      <td>...</td>\n",
              "      <td>...</td>\n",
              "      <td>...</td>\n",
              "      <td>...</td>\n",
              "      <td>...</td>\n",
              "      <td>...</td>\n",
              "      <td>...</td>\n",
              "      <td>...</td>\n",
              "      <td>...</td>\n",
              "    </tr>\n",
              "    <tr>\n",
              "      <th>56244</th>\n",
              "      <td>The Farm House Bar n Grill</td>\n",
              "      <td>No</td>\n",
              "      <td>No</td>\n",
              "      <td>3.7 /5</td>\n",
              "      <td>34</td>\n",
              "      <td>Whitefield</td>\n",
              "      <td>Casual Dining, Bar</td>\n",
              "      <td>NA</td>\n",
              "      <td>North Indian, Continental</td>\n",
              "      <td>800</td>\n",
              "      <td>Pubs and bars</td>\n",
              "    </tr>\n",
              "    <tr>\n",
              "      <th>56246</th>\n",
              "      <td>Bhagini</td>\n",
              "      <td>No</td>\n",
              "      <td>No</td>\n",
              "      <td>2.5 /5</td>\n",
              "      <td>81</td>\n",
              "      <td>Whitefield</td>\n",
              "      <td>Casual Dining, Bar</td>\n",
              "      <td>Biryani, Andhra Meal</td>\n",
              "      <td>Andhra, South Indian, Chinese, North Indian</td>\n",
              "      <td>800</td>\n",
              "      <td>Pubs and bars</td>\n",
              "    </tr>\n",
              "    <tr>\n",
              "      <th>56247</th>\n",
              "      <td>Best Brews - Four Points by Sheraton Bengaluru...</td>\n",
              "      <td>No</td>\n",
              "      <td>No</td>\n",
              "      <td>3.6 /5</td>\n",
              "      <td>27</td>\n",
              "      <td>Whitefield</td>\n",
              "      <td>Bar</td>\n",
              "      <td>NA</td>\n",
              "      <td>Continental</td>\n",
              "      <td>1,500</td>\n",
              "      <td>Pubs and bars</td>\n",
              "    </tr>\n",
              "    <tr>\n",
              "      <th>56250</th>\n",
              "      <td>Chime - Sheraton Grand Bengaluru Whitefield Ho...</td>\n",
              "      <td>No</td>\n",
              "      <td>Yes</td>\n",
              "      <td>4.3 /5</td>\n",
              "      <td>236</td>\n",
              "      <td>ITPL Main Road, Whitefield</td>\n",
              "      <td>Bar</td>\n",
              "      <td>Cocktails, Pizza, Buttermilk</td>\n",
              "      <td>Finger Food</td>\n",
              "      <td>2,500</td>\n",
              "      <td>Pubs and bars</td>\n",
              "    </tr>\n",
              "    <tr>\n",
              "      <th>56251</th>\n",
              "      <td>The Nest - The Den Bengaluru</td>\n",
              "      <td>No</td>\n",
              "      <td>No</td>\n",
              "      <td>3.4 /5</td>\n",
              "      <td>13</td>\n",
              "      <td>ITPL Main Road, Whitefield</td>\n",
              "      <td>Bar, Casual Dining</td>\n",
              "      <td>NA</td>\n",
              "      <td>Finger Food, North Indian, Continental</td>\n",
              "      <td>1,500</td>\n",
              "      <td>Pubs and bars</td>\n",
              "    </tr>\n",
              "  </tbody>\n",
              "</table>\n",
              "<p>30340 rows × 11 columns</p>\n",
              "</div>\n",
              "      <button class=\"colab-df-convert\" onclick=\"convertToInteractive('df-8d22d67d-5668-4a50-9b4a-f31a04af8fb6')\"\n",
              "              title=\"Convert this dataframe to an interactive table.\"\n",
              "              style=\"display:none;\">\n",
              "        \n",
              "  <svg xmlns=\"http://www.w3.org/2000/svg\" height=\"24px\"viewBox=\"0 0 24 24\"\n",
              "       width=\"24px\">\n",
              "    <path d=\"M0 0h24v24H0V0z\" fill=\"none\"/>\n",
              "    <path d=\"M18.56 5.44l.94 2.06.94-2.06 2.06-.94-2.06-.94-.94-2.06-.94 2.06-2.06.94zm-11 1L8.5 8.5l.94-2.06 2.06-.94-2.06-.94L8.5 2.5l-.94 2.06-2.06.94zm10 10l.94 2.06.94-2.06 2.06-.94-2.06-.94-.94-2.06-.94 2.06-2.06.94z\"/><path d=\"M17.41 7.96l-1.37-1.37c-.4-.4-.92-.59-1.43-.59-.52 0-1.04.2-1.43.59L10.3 9.45l-7.72 7.72c-.78.78-.78 2.05 0 2.83L4 21.41c.39.39.9.59 1.41.59.51 0 1.02-.2 1.41-.59l7.78-7.78 2.81-2.81c.8-.78.8-2.07 0-2.86zM5.41 20L4 18.59l7.72-7.72 1.47 1.35L5.41 20z\"/>\n",
              "  </svg>\n",
              "      </button>\n",
              "      \n",
              "  <style>\n",
              "    .colab-df-container {\n",
              "      display:flex;\n",
              "      flex-wrap:wrap;\n",
              "      gap: 12px;\n",
              "    }\n",
              "\n",
              "    .colab-df-convert {\n",
              "      background-color: #E8F0FE;\n",
              "      border: none;\n",
              "      border-radius: 50%;\n",
              "      cursor: pointer;\n",
              "      display: none;\n",
              "      fill: #1967D2;\n",
              "      height: 32px;\n",
              "      padding: 0 0 0 0;\n",
              "      width: 32px;\n",
              "    }\n",
              "\n",
              "    .colab-df-convert:hover {\n",
              "      background-color: #E2EBFA;\n",
              "      box-shadow: 0px 1px 2px rgba(60, 64, 67, 0.3), 0px 1px 3px 1px rgba(60, 64, 67, 0.15);\n",
              "      fill: #174EA6;\n",
              "    }\n",
              "\n",
              "    [theme=dark] .colab-df-convert {\n",
              "      background-color: #3B4455;\n",
              "      fill: #D2E3FC;\n",
              "    }\n",
              "\n",
              "    [theme=dark] .colab-df-convert:hover {\n",
              "      background-color: #434B5C;\n",
              "      box-shadow: 0px 1px 3px 1px rgba(0, 0, 0, 0.15);\n",
              "      filter: drop-shadow(0px 1px 2px rgba(0, 0, 0, 0.3));\n",
              "      fill: #FFFFFF;\n",
              "    }\n",
              "  </style>\n",
              "\n",
              "      <script>\n",
              "        const buttonEl =\n",
              "          document.querySelector('#df-8d22d67d-5668-4a50-9b4a-f31a04af8fb6 button.colab-df-convert');\n",
              "        buttonEl.style.display =\n",
              "          google.colab.kernel.accessAllowed ? 'block' : 'none';\n",
              "\n",
              "        async function convertToInteractive(key) {\n",
              "          const element = document.querySelector('#df-8d22d67d-5668-4a50-9b4a-f31a04af8fb6');\n",
              "          const dataTable =\n",
              "            await google.colab.kernel.invokeFunction('convertToInteractive',\n",
              "                                                     [key], {});\n",
              "          if (!dataTable) return;\n",
              "\n",
              "          const docLinkHtml = 'Like what you see? Visit the ' +\n",
              "            '<a target=\"_blank\" href=https://colab.research.google.com/notebooks/data_table.ipynb>data table notebook</a>'\n",
              "            + ' to learn more about interactive tables.';\n",
              "          element.innerHTML = '';\n",
              "          dataTable['output_type'] = 'display_data';\n",
              "          await google.colab.output.renderOutput(dataTable, element);\n",
              "          const docLink = document.createElement('div');\n",
              "          docLink.innerHTML = docLinkHtml;\n",
              "          element.appendChild(docLink);\n",
              "        }\n",
              "      </script>\n",
              "    </div>\n",
              "  </div>\n",
              "  "
            ]
          },
          "metadata": {},
          "execution_count": 15
        }
      ]
    },
    {
      "cell_type": "code",
      "source": [
        "#Unique value check and irrelavant value handling\n",
        "valid_values=['No','Yes']\n",
        "hotels=hotels.drop(hotels[~(hotels['online_order'].isin(valid_values))].index.tolist())"
      ],
      "metadata": {
        "id": "AkUcCFdQfdiy"
      },
      "execution_count": 16,
      "outputs": []
    },
    {
      "cell_type": "code",
      "source": [
        "hotels['online_order'].value_counts()"
      ],
      "metadata": {
        "colab": {
          "base_uri": "https://localhost:8080/"
        },
        "id": "lml68D15owpm",
        "outputId": "cd1ba9a7-ecb1-4e32-bff5-836f69e450df"
      },
      "execution_count": 17,
      "outputs": [
        {
          "output_type": "execute_result",
          "data": {
            "text/plain": [
              "Yes    19519\n",
              "No     10817\n",
              "Name: online_order, dtype: int64"
            ]
          },
          "metadata": {},
          "execution_count": 17
        }
      ]
    },
    {
      "cell_type": "code",
      "source": [
        " #Remove any unknown characters\n",
        "hotels['name'] = hotels['name'].str.replace('[Ãx][^A-Za-z]+','',regex=True)"
      ],
      "metadata": {
        "id": "WRn--ACApKDW"
      },
      "execution_count": 21,
      "outputs": []
    },
    {
      "cell_type": "code",
      "source": [
        "hotels['rating'].unique()"
      ],
      "metadata": {
        "colab": {
          "base_uri": "https://localhost:8080/"
        },
        "id": "t7TEOIjRpOxA",
        "outputId": "1af9d581-9b57-4690-8d9d-6219d62bd5d2"
      },
      "execution_count": 22,
      "outputs": [
        {
          "output_type": "execute_result",
          "data": {
            "text/plain": [
              "array(['4.1', '3.8', '3.7', '3.6', '4.6', '4.0', '4.2', '3.9', '3.1',\n",
              "       '3.0', '3.2', '3.3', '2.8', '4.4', '4.3', 0, '2.9', '3.5', '2.6',\n",
              "       '3.8 ', '3.4', '4.5', '2.5', '2.7', '4.7', '2.4', '2.2', '2.3',\n",
              "       '3.4 ', '3.6 ', '4.8', '3.9 ', '4.2 ', '4.0 ', '4.1 ', '3.7 ',\n",
              "       '3.1 ', '2.9 ', '3.3 ', '2.8 ', '3.5 ', '2.7 ', '2.5 ', '3.2 ',\n",
              "       '2.6 ', '4.5 ', '4.3 ', '4.4 ', '4.9', '2.1', '2.0', '1.8', '4.6 ',\n",
              "       '4.9 ', '3.0 ', '4.8 ', '2.3 ', '4.7 ', '2.4 ', '2.1 ', '2.2 ',\n",
              "       '2.0 ', '1.8 '], dtype=object)"
            ]
          },
          "metadata": {},
          "execution_count": 22
        }
      ]
    },
    {
      "cell_type": "code",
      "source": [
        "hotels.shape"
      ],
      "metadata": {
        "colab": {
          "base_uri": "https://localhost:8080/"
        },
        "id": "c-t_V2AcpUoX",
        "outputId": "8ea90f9d-c2d0-47a0-8ebc-7e78c812a556"
      },
      "execution_count": 23,
      "outputs": [
        {
          "output_type": "execute_result",
          "data": {
            "text/plain": [
              "(30336, 11)"
            ]
          },
          "metadata": {},
          "execution_count": 23
        }
      ]
    },
    {
      "cell_type": "code",
      "source": [
        "hotels['name']"
      ],
      "metadata": {
        "colab": {
          "base_uri": "https://localhost:8080/"
        },
        "id": "1FOMFjq4pfK8",
        "outputId": "9d613239-328b-4ad8-86af-a3c73b95f37e"
      },
      "execution_count": 24,
      "outputs": [
        {
          "output_type": "execute_result",
          "data": {
            "text/plain": [
              "0                                                    Jalsa\n",
              "1                                           Spice Elephant\n",
              "2                                          San Churro Cafe\n",
              "3                                    Addhuri Udupi Bhojana\n",
              "4                                            Grand Village\n",
              "                               ...                        \n",
              "56244                           The Farm House Bar n Grill\n",
              "56246                                              Bhagini\n",
              "56247    Best Brews - Four Points by Sheraton Bengaluru...\n",
              "56250    Chime - Sheraton Grand Bengaluru Whitefield Ho...\n",
              "56251                         The Nest - The Den Bengaluru\n",
              "Name: name, Length: 30336, dtype: object"
            ]
          },
          "metadata": {},
          "execution_count": 24
        }
      ]
    },
    {
      "cell_type": "code",
      "source": [
        "# Remove unknown character\n",
        "hotels['name'] = hotels['name'].str.replace('[Ãx][^A-Za-z]+','',regex=True)"
      ],
      "metadata": {
        "id": "DPK9K0sKpizM"
      },
      "execution_count": 25,
      "outputs": []
    },
    {
      "cell_type": "code",
      "source": [
        "hotels.shape"
      ],
      "metadata": {
        "colab": {
          "base_uri": "https://localhost:8080/"
        },
        "id": "pF3bbvmIpl1Q",
        "outputId": "98e41c48-abfd-41c6-91c3-9298cb28ca20"
      },
      "execution_count": 26,
      "outputs": [
        {
          "output_type": "execute_result",
          "data": {
            "text/plain": [
              "(30336, 11)"
            ]
          },
          "metadata": {},
          "execution_count": 26
        }
      ]
    },
    {
      "cell_type": "code",
      "source": [
        "# Export cleaned Dataset to newcsv file \n",
        "from google.colab import files\n",
        "hotels.to_csv('zomato_cleaned.csv',index=False,encoding = 'utf-8-sig')\n",
        "files.download('zomato_cleaned.csv')"
      ],
      "metadata": {
        "colab": {
          "base_uri": "https://localhost:8080/",
          "height": 34
        },
        "id": "5JLuVimcrFlb",
        "outputId": "89212be0-594c-4ab7-b3fb-f1aa077bea16"
      },
      "execution_count": 27,
      "outputs": [
        {
          "output_type": "display_data",
          "data": {
            "text/plain": [
              "<IPython.core.display.Javascript object>"
            ],
            "application/javascript": [
              "\n",
              "    async function download(id, filename, size) {\n",
              "      if (!google.colab.kernel.accessAllowed) {\n",
              "        return;\n",
              "      }\n",
              "      const div = document.createElement('div');\n",
              "      const label = document.createElement('label');\n",
              "      label.textContent = `Downloading \"${filename}\": `;\n",
              "      div.appendChild(label);\n",
              "      const progress = document.createElement('progress');\n",
              "      progress.max = size;\n",
              "      div.appendChild(progress);\n",
              "      document.body.appendChild(div);\n",
              "\n",
              "      const buffers = [];\n",
              "      let downloaded = 0;\n",
              "\n",
              "      const channel = await google.colab.kernel.comms.open(id);\n",
              "      // Send a message to notify the kernel that we're ready.\n",
              "      channel.send({})\n",
              "\n",
              "      for await (const message of channel.messages) {\n",
              "        // Send a message to notify the kernel that we're ready.\n",
              "        channel.send({})\n",
              "        if (message.buffers) {\n",
              "          for (const buffer of message.buffers) {\n",
              "            buffers.push(buffer);\n",
              "            downloaded += buffer.byteLength;\n",
              "            progress.value = downloaded;\n",
              "          }\n",
              "        }\n",
              "      }\n",
              "      const blob = new Blob(buffers, {type: 'application/binary'});\n",
              "      const a = document.createElement('a');\n",
              "      a.href = window.URL.createObjectURL(blob);\n",
              "      a.download = filename;\n",
              "      div.appendChild(a);\n",
              "      a.click();\n",
              "      div.remove();\n",
              "    }\n",
              "  "
            ]
          },
          "metadata": {}
        },
        {
          "output_type": "display_data",
          "data": {
            "text/plain": [
              "<IPython.core.display.Javascript object>"
            ],
            "application/javascript": [
              "download(\"download_6a36e4a5-aee6-4a2a-bc39-c4e2c2d5b029\", \"zomato_cleaned.csv\", 4153393)"
            ]
          },
          "metadata": {}
        }
      ]
    }
  ]
}